{
 "cells": [
  {
   "cell_type": "raw",
   "metadata": {},
   "source": [
    "Prediction numbers of sequence\n",
    "\n",
    "Code:\n",
    "sequence_(x)"
   ]
  },
  {
   "cell_type": "code",
   "execution_count": 7,
   "metadata": {},
   "outputs": [
    {
     "name": "stdout",
     "output_type": "stream",
     "text": [
      "My name is\n",
      "numbers:0\n",
      "numbers_second_format:0\n",
      "numbers:1\n",
      "numbers_second_format:1\n",
      "numbers:2\n",
      "numbers_second_format:2\n",
      "numbers:3\n",
      "numbers_second_format:3\n",
      "numbers:4\n",
      "numbers_second_format:4\n"
     ]
    }
   ],
   "source": [
    "print('My name is')\n",
    "\n",
    "for i in range(5):\n",
    "    print('numbers:' + str(i))\n",
    "    print('numbers_second_format:{}'.format(str(i)))"
   ]
  },
  {
   "cell_type": "code",
   "execution_count": 7,
   "metadata": {},
   "outputs": [
    {
     "name": "stdout",
     "output_type": "stream",
     "text": [
      "1\n",
      "2\n",
      "3\n",
      "4\n"
     ]
    }
   ],
   "source": [
    "for i in range(1, 5):\n",
    "    print(i)"
   ]
  },
  {
   "cell_type": "code",
   "execution_count": 18,
   "metadata": {},
   "outputs": [
    {
     "name": "stdout",
     "output_type": "stream",
     "text": [
      "['sequence_1']\n",
      "['sequence_2']\n",
      "['sequence_3']\n",
      "['sequence_4']\n",
      "['sequence_5']\n",
      "['sequence_6']\n",
      "['sequence_7']\n"
     ]
    }
   ],
   "source": [
    "for i in range(1, 8):\n",
    "    x = 'sequence_{numbers}'.format(numbers=i)\n",
    "    list_total = []\n",
    "    list_total.append(x)\n",
    "    print(list_total)"
   ]
  },
  {
   "cell_type": "code",
   "execution_count": 26,
   "metadata": {},
   "outputs": [
    {
     "name": "stdout",
     "output_type": "stream",
     "text": [
      "Hello Geek\n",
      "1\n",
      "Hello Geek\n",
      "2\n",
      "Hello Geek\n",
      "3\n",
      "Hello Geek\n",
      "4\n",
      "Hello Geek\n",
      "5\n"
     ]
    }
   ],
   "source": [
    "count = 0\n",
    "\n",
    "while count < 5:     \n",
    "    count = count + 1\n",
    "    print(\"Hello Geek\")\n",
    "    print(count)"
   ]
  },
  {
   "cell_type": "code",
   "execution_count": 24,
   "metadata": {},
   "outputs": [
    {
     "name": "stdout",
     "output_type": "stream",
     "text": [
      "4\n",
      "3\n",
      "2\n",
      "1\n"
     ]
    }
   ],
   "source": [
    "a = [1, 2, 3, 4]\n",
    "while a:\n",
    "    print(a.pop())"
   ]
  },
  {
   "cell_type": "code",
   "execution_count": 2,
   "metadata": {},
   "outputs": [
    {
     "name": "stdout",
     "output_type": "stream",
     "text": [
      "Hi there\n"
     ]
    }
   ],
   "source": [
    "spam = 0\n",
    "if spam < 5:\n",
    "    print('Hi there')\n",
    "    spam = spam + 1"
   ]
  },
  {
   "cell_type": "code",
   "execution_count": 3,
   "metadata": {},
   "outputs": [
    {
     "name": "stdout",
     "output_type": "stream",
     "text": [
      "Hi there\n",
      "Hi there\n",
      "Hi there\n",
      "Hi there\n",
      "Hi there\n"
     ]
    }
   ],
   "source": [
    "spam = 0\n",
    "while spam < 5:\n",
    "    print('Hi there')\n",
    "    spam = spam + 1"
   ]
  },
  {
   "cell_type": "code",
   "execution_count": null,
   "metadata": {},
   "outputs": [],
   "source": [
    "#import bs4\n",
    "#import requests\n",
    "#from bs4 import BeautifulSoup\n",
    "#\n",
    "#def parsePrice():\n",
    "#    r = requests.get('https://finance.yahoo.com/quote/FB?p=FB')\n",
    "#    soup = bs4.BeautifulSoup(r.text,'xml')\n",
    "#    price = soup.find_all('div',{'class':'My(6px) Post(r) smartphone_Mt(6px)'})[0].find('span').text\n",
    "#    return price\n",
    "#\n",
    "while True:\n",
    "    print(str(parseProce()))"
   ]
  },
  {
   "cell_type": "code",
   "execution_count": 5,
   "metadata": {},
   "outputs": [
    {
     "data": {
      "image/png": "[encoded data removed]",
      "text/plain": [
       "<IPython.core.display.Image object>"
      ]
     },
     "execution_count": 5,
     "metadata": {},
     "output_type": "execute_result"
    }
   ],
   "source": [
    "from IPython.display import Image\n",
    "Image(filename='1.png')"
   ]
  },
  {
   "cell_type": "code",
   "execution_count": 6,
   "metadata": {},
   "outputs": [
    {
     "name": "stdout",
     "output_type": "stream",
     "text": [
      "Tell me your car color\n",
      "yellow\n",
      "Tell me your car color\n",
      "yellow\n",
      "Tell me your car color\n",
      "red\n",
      "You`ve got the car color\n"
     ]
    }
   ],
   "source": [
    "car_color = ''\n",
    "\n",
    "while True:\n",
    "    print('Tell me your car color')\n",
    "    color = input()\n",
    "    \n",
    "    if color == 'red':\n",
    "        break\n",
    "print('You`ve got the car color')"
   ]
  },
  {
   "cell_type": "code",
   "execution_count": null,
   "metadata": {},
   "outputs": [
    {
     "name": "stdout",
     "output_type": "stream",
     "text": [
      "Tell me your car color\n",
      "blue\n",
      "Tell me your car color\n",
      "blue\n",
      "Tell me your car color\n",
      "red\n",
      "Tell me your car color\n",
      "red\n",
      "Tell me your car color\n"
     ]
    }
   ],
   "source": [
    "car_color = ''\n",
    "\n",
    "while True:\n",
    "    print('Tell me your car color')\n",
    "    color = input()\n",
    "    \n",
    "    if color == 'red':\n",
    "        continue\n",
    "print('You`ve got the car color')"
   ]
  },
  {
   "cell_type": "code",
   "execution_count": null,
   "metadata": {},
   "outputs": [],
   "source": []
  }
 ],
 "metadata": {
  "kernelspec": {
   "display_name": "Python 3",
   "language": "python",
   "name": "python3"
  },
  "language_info": {
   "codemirror_mode": {
    "name": "ipython",
    "version": 3
   },
   "file_extension": ".py",
   "mimetype": "text/x-python",
   "name": "python",
   "nbconvert_exporter": "python",
   "pygments_lexer": "ipython3",
   "version": "3.7.1"
  }
 },
 "nbformat": 4,
 "nbformat_minor": 2
}
