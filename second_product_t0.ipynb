{
 "cells": [
  {
   "cell_type": "code",
   "execution_count": 1,
   "metadata": {},
   "outputs": [],
   "source": [
    "import pandas as pd\n",
    "import numpy as np\n",
    "import requests\n",
    "import time"
   ]
  },
  {
   "cell_type": "code",
   "execution_count": 37,
   "metadata": {},
   "outputs": [],
   "source": [
    "data_site = pd.read_csv('Vagas_v2.csv')"
   ]
  },
  {
   "cell_type": "code",
   "execution_count": 39,
   "metadata": {
    "scrolled": true
   },
   "outputs": [],
   "source": [
    "df_url = data_site[data_site['TAG'] == \"Url\"]\n",
    "\n",
    "df_cod = data_site[data_site['TAG'] == \"Código\"]"
   ]
  },
  {
   "cell_type": "code",
   "execution_count": 45,
   "metadata": {
    "scrolled": true
   },
   "outputs": [
    {
     "data": {
      "text/html": [
       "<div>\n",
       "<style scoped>\n",
       "    .dataframe tbody tr th:only-of-type {\n",
       "        vertical-align: middle;\n",
       "    }\n",
       "\n",
       "    .dataframe tbody tr th {\n",
       "        vertical-align: top;\n",
       "    }\n",
       "\n",
       "    .dataframe thead th {\n",
       "        text-align: right;\n",
       "    }\n",
       "</style>\n",
       "<table border=\"1\" class=\"dataframe\">\n",
       "  <thead>\n",
       "    <tr style=\"text-align: right;\">\n",
       "      <th></th>\n",
       "      <th>Unnamed: 0</th>\n",
       "      <th>ID</th>\n",
       "      <th>TAG</th>\n",
       "      <th>TEXTO</th>\n",
       "    </tr>\n",
       "  </thead>\n",
       "  <tbody>\n",
       "    <tr>\n",
       "      <th>1</th>\n",
       "      <td>1</td>\n",
       "      <td>1</td>\n",
       "      <td>Url</td>\n",
       "      <td>https://www.vagas.com.br/vagas/v2196495/vaga-a...</td>\n",
       "    </tr>\n",
       "    <tr>\n",
       "      <th>12</th>\n",
       "      <td>12</td>\n",
       "      <td>2</td>\n",
       "      <td>Url</td>\n",
       "      <td>https://www.vagas.com.br/vagas/v2200823/vagas-...</td>\n",
       "    </tr>\n",
       "    <tr>\n",
       "      <th>23</th>\n",
       "      <td>23</td>\n",
       "      <td>3</td>\n",
       "      <td>Url</td>\n",
       "      <td>https://www.vagas.com.br/vagas/v2187790/banco-...</td>\n",
       "    </tr>\n",
       "    <tr>\n",
       "      <th>34</th>\n",
       "      <td>34</td>\n",
       "      <td>4</td>\n",
       "      <td>Url</td>\n",
       "      <td>https://www.vagas.com.br/vagas/v2198375/tecnic...</td>\n",
       "    </tr>\n",
       "  </tbody>\n",
       "</table>\n",
       "</div>"
      ],
      "text/plain": [
       "    Unnamed: 0  ID  TAG                                              TEXTO\n",
       "1            1   1  Url  https://www.vagas.com.br/vagas/v2196495/vaga-a...\n",
       "12          12   2  Url  https://www.vagas.com.br/vagas/v2200823/vagas-...\n",
       "23          23   3  Url  https://www.vagas.com.br/vagas/v2187790/banco-...\n",
       "34          34   4  Url  https://www.vagas.com.br/vagas/v2198375/tecnic..."
      ]
     },
     "execution_count": 45,
     "metadata": {},
     "output_type": "execute_result"
    }
   ],
   "source": [
    "df_url.head(4)"
   ]
  },
  {
   "cell_type": "code",
   "execution_count": 58,
   "metadata": {
    "scrolled": true
   },
   "outputs": [
    {
     "data": {
      "text/plain": [
       "3     v2196495\n",
       "14    v2200823\n",
       "25    v2187790\n",
       "36    v2198375\n",
       "Name: TEXTO, dtype: object"
      ]
     },
     "execution_count": 58,
     "metadata": {},
     "output_type": "execute_result"
    }
   ],
   "source": [
    "df_cod.head(4)"
   ]
  },
  {
   "cell_type": "code",
   "execution_count": 69,
   "metadata": {
    "scrolled": true
   },
   "outputs": [
    {
     "data": {
      "text/plain": [
       "['https://www.vagas.com.br/vagas/v2200823/vagas-jovem-aprendiz',\n",
       " 'https://www.vagas.com.br/vagas/v2187790/banco-de-vagas-projeto-multicor',\n",
       " 'https://www.vagas.com.br/vagas/v2198375/tecnico-em-edificacoes-vaga-temporaria',\n",
       " 'https://www.vagas.com.br/vagas/v2197861/enfermeiro-obstetra-pl-vaga-folguista']"
      ]
     },
     "execution_count": 69,
     "metadata": {},
     "output_type": "execute_result"
    }
   ],
   "source": [
    "### Other Method ###\n",
    "\n",
    "#type(df_url)\n",
    "\n",
    "df_url[1:5]"
   ]
  },
  {
   "cell_type": "code",
   "execution_count": 63,
   "metadata": {},
   "outputs": [
    {
     "data": {
      "text/plain": [
       "1958"
      ]
     },
     "execution_count": 63,
     "metadata": {},
     "output_type": "execute_result"
    }
   ],
   "source": [
    "len(df_url)"
   ]
  },
  {
   "cell_type": "code",
   "execution_count": 71,
   "metadata": {
    "scrolled": true
   },
   "outputs": [
    {
     "data": {
      "text/plain": [
       "14    v2200823\n",
       "25    v2187790\n",
       "36    v2198375\n",
       "47    v2197861\n",
       "Name: TEXTO, dtype: object"
      ]
     },
     "execution_count": 71,
     "metadata": {},
     "output_type": "execute_result"
    }
   ],
   "source": [
    "#df_cod = df_cod['TEXTO']\n",
    "df_cod[1:5]"
   ]
  },
  {
   "cell_type": "code",
   "execution_count": 72,
   "metadata": {},
   "outputs": [],
   "source": [
    "# names = df['Name'].tolist()"
   ]
  },
  {
   "cell_type": "code",
   "execution_count": 75,
   "metadata": {},
   "outputs": [],
   "source": [
    "df_url = pd.DataFrame(df_url)\n",
    "df_cod = pd.DataFrame(df_cod)"
   ]
  },
  {
   "cell_type": "code",
   "execution_count": 76,
   "metadata": {},
   "outputs": [],
   "source": [
    "result = pd.concat([df_url,df_cod], axis=1, join='inner')"
   ]
  },
  {
   "cell_type": "code",
   "execution_count": 84,
   "metadata": {
    "scrolled": true
   },
   "outputs": [
    {
     "data": {
      "text/html": [
       "<div>\n",
       "<style scoped>\n",
       "    .dataframe tbody tr th:only-of-type {\n",
       "        vertical-align: middle;\n",
       "    }\n",
       "\n",
       "    .dataframe tbody tr th {\n",
       "        vertical-align: top;\n",
       "    }\n",
       "\n",
       "    .dataframe thead th {\n",
       "        text-align: right;\n",
       "    }\n",
       "</style>\n",
       "<table border=\"1\" class=\"dataframe\">\n",
       "  <thead>\n",
       "    <tr style=\"text-align: right;\">\n",
       "      <th></th>\n",
       "      <th>ulr</th>\n",
       "      <th>cod</th>\n",
       "    </tr>\n",
       "  </thead>\n",
       "  <tbody>\n",
       "    <tr>\n",
       "      <th>3</th>\n",
       "      <td>https://www.vagas.com.br/vagas/v2198375/tecnic...</td>\n",
       "      <td>v2196495</td>\n",
       "    </tr>\n",
       "    <tr>\n",
       "      <th>14</th>\n",
       "      <td>https://www.vagas.com.br/vagas/v2201283/analis...</td>\n",
       "      <td>v2200823</td>\n",
       "    </tr>\n",
       "    <tr>\n",
       "      <th>25</th>\n",
       "      <td>https://www.vagas.com.br/vagas/v2194305/analis...</td>\n",
       "      <td>v2187790</td>\n",
       "    </tr>\n",
       "    <tr>\n",
       "      <th>36</th>\n",
       "      <td>https://www.vagas.com.br/vagas/v2195373/tecnic...</td>\n",
       "      <td>v2198375</td>\n",
       "    </tr>\n",
       "  </tbody>\n",
       "</table>\n",
       "</div>"
      ],
      "text/plain": [
       "                                                  ulr       cod\n",
       "3   https://www.vagas.com.br/vagas/v2198375/tecnic...  v2196495\n",
       "14  https://www.vagas.com.br/vagas/v2201283/analis...  v2200823\n",
       "25  https://www.vagas.com.br/vagas/v2194305/analis...  v2187790\n",
       "36  https://www.vagas.com.br/vagas/v2195373/tecnic...  v2198375"
      ]
     },
     "execution_count": 84,
     "metadata": {},
     "output_type": "execute_result"
    }
   ],
   "source": [
    "result = result.rename(columns={0: 'ulr','TEXTO': 'cod'})  # inplace = True\n",
    "result.head(4)"
   ]
  },
  {
   "cell_type": "code",
   "execution_count": null,
   "metadata": {},
   "outputs": [],
   "source": [
    "result = result.reset_index()"
   ]
  },
  {
   "cell_type": "code",
   "execution_count": 94,
   "metadata": {},
   "outputs": [],
   "source": [
    "result = result.drop(['level_0', 'index'], axis = 1)"
   ]
  },
  {
   "cell_type": "code",
   "execution_count": 102,
   "metadata": {},
   "outputs": [],
   "source": [
    "result.to_csv('vagas_t0_v2.csv', index=False)"
   ]
  },
  {
   "cell_type": "code",
   "execution_count": null,
   "metadata": {},
   "outputs": [],
   "source": [
    "##########################################################################################################"
   ]
  },
  {
   "cell_type": "code",
   "execution_count": 2,
   "metadata": {},
   "outputs": [],
   "source": [
    "df = pd.read_csv('vagas_t0_v2.csv')"
   ]
  },
  {
   "cell_type": "code",
   "execution_count": null,
   "metadata": {},
   "outputs": [],
   "source": [
    "proxies = {'https': \"socks5h://127.0.0.1:1080\"}"
   ]
  },
  {
   "cell_type": "code",
   "execution_count": 104,
   "metadata": {},
   "outputs": [
    {
     "data": {
      "text/html": [
       "<div>\n",
       "<style scoped>\n",
       "    .dataframe tbody tr th:only-of-type {\n",
       "        vertical-align: middle;\n",
       "    }\n",
       "\n",
       "    .dataframe tbody tr th {\n",
       "        vertical-align: top;\n",
       "    }\n",
       "\n",
       "    .dataframe thead th {\n",
       "        text-align: right;\n",
       "    }\n",
       "</style>\n",
       "<table border=\"1\" class=\"dataframe\">\n",
       "  <thead>\n",
       "    <tr style=\"text-align: right;\">\n",
       "      <th></th>\n",
       "      <th>ulr</th>\n",
       "      <th>cod</th>\n",
       "    </tr>\n",
       "  </thead>\n",
       "  <tbody>\n",
       "    <tr>\n",
       "      <th>0</th>\n",
       "      <td>https://www.vagas.com.br/vagas/v2198375/tecnic...</td>\n",
       "      <td>v2196495</td>\n",
       "    </tr>\n",
       "    <tr>\n",
       "      <th>1</th>\n",
       "      <td>https://www.vagas.com.br/vagas/v2201283/analis...</td>\n",
       "      <td>v2200823</td>\n",
       "    </tr>\n",
       "    <tr>\n",
       "      <th>2</th>\n",
       "      <td>https://www.vagas.com.br/vagas/v2194305/analis...</td>\n",
       "      <td>v2187790</td>\n",
       "    </tr>\n",
       "  </tbody>\n",
       "</table>\n",
       "</div>"
      ],
      "text/plain": [
       "                                                 ulr       cod\n",
       "0  https://www.vagas.com.br/vagas/v2198375/tecnic...  v2196495\n",
       "1  https://www.vagas.com.br/vagas/v2201283/analis...  v2200823\n",
       "2  https://www.vagas.com.br/vagas/v2194305/analis...  v2187790"
      ]
     },
     "execution_count": 104,
     "metadata": {},
     "output_type": "execute_result"
    }
   ],
   "source": [
    "df.head(3)"
   ]
  },
  {
   "cell_type": "code",
   "execution_count": 3,
   "metadata": {},
   "outputs": [],
   "source": [
    "df_u = df['ulr'].tolist()"
   ]
  },
  {
   "cell_type": "code",
   "execution_count": 4,
   "metadata": {},
   "outputs": [],
   "source": [
    "df_c = df['cod'].tolist()"
   ]
  },
  {
   "cell_type": "code",
   "execution_count": 13,
   "metadata": {},
   "outputs": [],
   "source": [
    "#list_of_urls = ['https://ayltoninacio.com.br','https://ayltoninacio.com.br/teste']\n",
    "#list_of_cod = ['qw','wer']\n",
    "\n",
    "connected = []\n",
    "error = []\n",
    "\n",
    "def t0_vagas():\n",
    "    for (i,q) in zip(df_u,df_c):\n",
    "        \n",
    "        #proxies = {'https': \"socks5h://127.0.0.1:1080\"}\n",
    "        #r = requests.get(i,proxies=proxies)\n",
    "        r = requests.get(i)\n",
    "        \n",
    "        time.sleep(5) \n",
    "        if r.status_code == 200:\n",
    "            time.sleep(5)\n",
    "            print(i,q + \"the connection url is right\")\n",
    "            urls = i\n",
    "            cods = q\n",
    "            dados = {'urls':urls,'cods':cods}\n",
    "            connected.append(dados)\n",
    "            df_0 = pd.DataFrame(connected)\n",
    "            df_0.to_csv('connected.csv')\n",
    "            \n",
    "         \n",
    "        else:\n",
    "            time.sleep(5) \n",
    "            print(i,q + 'Error 404')\n",
    "            urls = i\n",
    "            cods = q\n",
    "            dados = {'urls':urls,'cods':cods}\n",
    "            error.append(dados)\n",
    "            df_1 = pd.DataFrame(error)\n",
    "            df_1.to_csv('error.csv')\n",
    "    \n",
    "    #time.sleep(10)  \n",
    "    return print(error)"
   ]
  },
  {
   "cell_type": "code",
   "execution_count": 14,
   "metadata": {
    "scrolled": false
   },
   "outputs": [
    {
     "name": "stdout",
     "output_type": "stream",
     "text": [
      "https://www.vagas.com.br/vagas/v2198375/tecnico-em-edificacoes-vaga-temporaria v2196495the connection url is right\n",
      "https://www.vagas.com.br/vagas/v2201283/analista-de-conteudo-digital-ii-vaga-temporaria v2200823the connection url is right\n",
      "https://www.vagas.com.br/vagas/v2194305/analista-de-infraestrutura-vaga-exclusiva-para-profissionais-com-deficiencia v2187790the connection url is right\n",
      "https://www.vagas.com.br/vagas/v2195373/tecnico-de-operacoes v2198375the connection url is right\n",
      "https://www.vagas.com.br/vagas/v2180941/analista-de-recursos-humanos v2197861the connection url is right\n",
      "https://www.vagas.com.br/vagas/v2204929/vendedor-externo-key-account-varejo v2192687the connection url is right\n",
      "https://www.vagas.com.br/vagas/v2174172/cargo-xpto v2204674the connection url is right\n",
      "https://www.vagas.com.br/vagas/v2195039/operador-de-empilhadeira v2191262the connection url is right\n",
      "https://www.vagas.com.br/vagas/v2203758/recrutador-jr v2197324the connection url is right\n",
      "https://www.vagas.com.br/vagas/v2195133/tecnico-de-teleatendimento-pcd v2197514the connection url is right\n",
      "https://www.vagas.com.br/vagas/v2201488/analista-de-atracao-e-selecao-ii-temporario v2131499the connection url is right\n",
      "https://www.vagas.com.br/vagas/v2179595/assistente-administrativo-logistica-de-componentes v2131505the connection url is right\n",
      "https://www.vagas.com.br/vagas/v2198612/tecnico-de-enfermagem-centro-cirurgico v2199829the connection url is right\n",
      "https://www.vagas.com.br/vagas/v2198586/enfermeiro-pronto-atendimento v2198405the connection url is right\n",
      "https://www.vagas.com.br/vagas/v2110804/assistente-tecnico-comercial v2201283the connection url is right\n",
      "https://www.vagas.com.br/vagas/v2201060/assistente-financeiro v2201284the connection url is right\n",
      "https://www.vagas.com.br/vagas/v2170989/analista-de-planejamento-pleno v2171800the connection url is right\n",
      "https://www.vagas.com.br/vagas/v2198680/lider-de-atendimento v2194282the connection url is right\n",
      "https://www.vagas.com.br/vagas/v2203946/auxiliar-administrativo v2200198the connection url is right\n",
      "https://www.vagas.com.br/vagas/v2194545/tecnico-manutencao-mecanica-de-helicopteros-sk92-e-sk76 v2200192the connection url is right\n",
      "https://www.vagas.com.br/vagas/v2191260/assistente-de-recursos-humanos v2193323the connection url is right\n",
      "https://www.vagas.com.br/vagas/v2186308/coordenador-administrativo v2183140the connection url is right\n",
      "https://www.vagas.com.br/vagas/v2150685/medico-saude-da-familia-e-comunidade v2200209the connection url is right\n",
      "https://www.vagas.com.br/vagas/v2203113/assistente-de-pessoas-pleno-pcd v2200201the connection url is right\n",
      "https://www.vagas.com.br/vagas/v2191661/vendedor-junior v2200713the connection url is right\n",
      "https://www.vagas.com.br/vagas/v2198261/lider-de-vendas-e-merchandising v2194305the connection url is right\n",
      "https://www.vagas.com.br/vagas/v2197387/lider-de-vendas-e-merchandising v2188779the connection url is right\n",
      "https://www.vagas.com.br/vagas/v2203197/analista-de-logistica-comercio-exterior v2199831the connection url is right\n",
      "https://www.vagas.com.br/vagas/v2195061/mecanico v2193306the connection url is right\n",
      "https://www.vagas.com.br/vagas/v2191770/gerente-de-atendimento v2203709the connection url is right\n",
      "https://www.vagas.com.br/vagas/v2195389/pedreiro v2204407the connection url is right\n",
      "https://www.vagas.com.br/vagas/v2204730/auxiliar-de-jardinagem v2204890the connection url is right\n",
      "https://www.vagas.com.br/vagas/v2178367/auxiliar-de-enfermagem-do-trabalho v2199072the connection url is right\n",
      "https://www.vagas.com.br/vagas/v2204508/vendedor-a-brusque v2193284the connection url is right\n",
      "https://www.vagas.com.br/vagas/v2187594/analista-negocios-pl v2194321the connection url is right\n",
      "https://www.vagas.com.br/vagas/v2199289/tecnico-de-enfermagem v1520327the connection url is right\n",
      "https://www.vagas.com.br/vagas/v2203110/operador-a-de-atendimento-pcd v2195373the connection url is right\n",
      "https://www.vagas.com.br/vagas/v2199430/pessoa-estagiaria-em-comunicacao-interna-exclusiva-para-pessoas-negras v2195380the connection url is right\n",
      "https://www.vagas.com.br/vagas/v2199894/promotor-de-vendas-ipatinga-mg v2184299the connection url is right\n",
      "https://www.vagas.com.br/vagas/v2173482/trainee-manutencao-agro v2194121the connection url is right\n",
      "https://www.vagas.com.br/vagas/v2180919/vendedor-externo-jr v2198365the connection url is right\n",
      "https://www.vagas.com.br/vagas/v2188985/assistente-de-recursos-humanos-selecao v2200333the connection url is right\n",
      "https://www.vagas.com.br/vagas/v2195885/operador-de-televendas v2200414the connection url is right\n",
      "https://www.vagas.com.br/vagas/v2186578/supervisor-a-de-atendimento v2203016the connection url is right\n",
      "https://www.vagas.com.br/vagas/v2193309/analista-junior-de-operacoes-digitais-temporario-som-livre v2196043the connection url is right\n",
      "https://www.vagas.com.br/vagas/v2202368/aprendiz-de-manutencao-eletromecanica-ferroviario v2190463the connection url is right\n",
      "https://www.vagas.com.br/vagas/v2200594/auxiliar-administrativo-cadastro-reserva v2197683the connection url is right\n",
      "https://www.vagas.com.br/vagas/v2183680/operador-de-teleatendimento-i-agendamento-de-exames v2180941the connection url is right\n",
      "https://www.vagas.com.br/vagas/v2189541/desenvolvedor-senior-java-react-js-100-remoto v2192110the connection url is right\n",
      "https://www.vagas.com.br/vagas/v2200340/tecnico-de-planejamento v2196092the connection url is right\n",
      "https://www.vagas.com.br/vagas/v2198482/tecnico-de-enfermagem-uti-adulto v2196561the connection url is right\n",
      "https://www.vagas.com.br/vagas/v2189065/agente-de-servicos-de-apoio-limpeza-e-copa v2199841the connection url is right\n",
      "https://www.vagas.com.br/vagas/v2194607/assistente-de-faturamento v2203570the connection url is right\n",
      "https://www.vagas.com.br/vagas/v2202423/analista-atracao-de-talentos-jr v2203149the connection url is right\n",
      "https://www.vagas.com.br/vagas/v2196194/operador-de-caixa-ribeirao-preto v2199360the connection url is right\n",
      "https://www.vagas.com.br/vagas/v2204008/inspetor-de-loja v2179368the connection url is right\n",
      "https://www.vagas.com.br/vagas/v2198045/tecnico-de-seguranca-do-trabalho v2178534the connection url is right\n",
      "https://www.vagas.com.br/vagas/v2196937/analista-de-sistemas-senior-desenvolvedor-de-sistemas-full-stack-net v2187554the connection url is right\n",
      "https://www.vagas.com.br/vagas/v2191233/auxiliar-de-copa v2204929the connection url is right\n",
      "https://www.vagas.com.br/vagas/v2195663/vendedor-a-revezador-criciuma-e-regiao v2204946the connection url is right\n",
      "https://www.vagas.com.br/vagas/v2183193/tecnico-de-enfermagem-unidade-de-internacao-pediatrica v2193814the connection url is right\n",
      "https://www.vagas.com.br/vagas/v2200021/auxiliar-de-relacionamento-londrina v2192320the connection url is right\n",
      "https://www.vagas.com.br/vagas/v2201367/tecnico-de-seguranca-do-trabalho v2195196the connection url is right\n",
      "https://www.vagas.com.br/vagas/v2203274/desenvolvedor-mainframe-cobol v2195201the connection url is right\n",
      "https://www.vagas.com.br/vagas/v2199796/especialista-reporte-esg v2194341the connection url is right\n",
      "https://www.vagas.com.br/vagas/v2204751/controlador-operacao-pate v2191677the connection url is right\n",
      "https://www.vagas.com.br/vagas/v2195027/auxiliar-de-dpd-tecnologia-da-informacao-loja-santo-andre-sp v2179531the connection url is right\n",
      "https://www.vagas.com.br/vagas/v2200410/estagiario-a-area-de-atendimento v2183944the connection url is right\n",
      "https://www.vagas.com.br/vagas/v2165659/motorista-coletor-de-oleo-maringa-lwart-solucoes-ambientais v2201316the connection url is right\n",
      "https://www.vagas.com.br/vagas/v2202520/assistente-de-transportes-foco-em-contratacao-de-motoristas-carreteiros v2174172the connection url is right\n",
      "https://www.vagas.com.br/vagas/v2153514/analista-de-infraestrutura-pleno v2194087the connection url is right\n",
      "https://www.vagas.com.br/vagas/v2193930/analista-de-negocios-sr v2191301the connection url is right\n",
      "https://www.vagas.com.br/vagas/v2195659/operador-a-de-loja-revezador-tubarao-e-regiao v2188978the connection url is right\n",
      "https://www.vagas.com.br/vagas/v2204849/analista-administrativo-senior-pcm-64045-47 v2204418the connection url is right\n",
      "https://www.vagas.com.br/vagas/v2200266/mecanico-de-manutencao v2188684the connection url is right\n"
     ]
    },
    {
     "name": "stdout",
     "output_type": "stream",
     "text": [
      "https://www.vagas.com.br/vagas/v2168882/atendente-de-telemarketing-sp v2197007the connection url is right\n",
      "https://www.vagas.com.br/vagas/v2191987/tecnico-de-campo-jr-uberlandia-mg v2204936the connection url is right\n",
      "https://www.vagas.com.br/vagas/v2200584/recruiter-temporario-page-interim v2195097the connection url is right\n",
      "https://www.vagas.com.br/vagas/v2200581/promotor-de-vendas-rio-de-janeiro v2187928the connection url is right\n",
      "https://www.vagas.com.br/vagas/v2192679/promotor-de-merchandising-mt-banco-de-talentos v2191488the connection url is right\n",
      "https://www.vagas.com.br/vagas/v2195532/consultor-comercial-i v2195039the connection url is right\n",
      "https://www.vagas.com.br/vagas/v2197230/especialista-em-bi v2198659the connection url is right\n",
      "https://www.vagas.com.br/vagas/v2202957/tecnico-quimico-jr v2197377the connection url is right\n",
      "https://www.vagas.com.br/vagas/v2196089/auxiliar-administrativo v2194117the connection url is right\n",
      "https://www.vagas.com.br/vagas/v2187948/auxiliar-de-laboratorio v2179016the connection url is right\n",
      "https://www.vagas.com.br/vagas/v2170109/analista-de-sistemas-e-requisitos v2188907the connection url is right\n",
      "https://www.vagas.com.br/vagas/v2195498/assistente-de-movimentacao-de-carga v2194945the connection url is right\n",
      "https://www.vagas.com.br/vagas/v2201314/estagiario-superior v2198599the connection url is right\n",
      "https://www.vagas.com.br/vagas/v2202641/tecnico-manutencao-rio-grande-do-sul v2173988the connection url is right\n",
      "https://www.vagas.com.br/vagas/v2178124/fisioterapeuta-unidade-internacao-uti-perfil-adulto v2179278the connection url is right\n",
      "https://www.vagas.com.br/vagas/v2194030/analista-juridico v2201402the connection url is right\n",
      "https://www.vagas.com.br/vagas/v2194202/consultor-de-seguros-alta-renda-rio-de-janeiro-rj v2203758the connection url is right\n",
      "https://www.vagas.com.br/vagas/v2203158/analista-de-dados-jr-pcd v2177485the connection url is right\n",
      "https://www.vagas.com.br/vagas/v2203035/estagiario-ciencias-aeronauticas-belo-horizonte v2179532the connection url is right\n",
      "https://www.vagas.com.br/vagas/v2184852/analista-homologacao-e-cadastro-jr v2198637the connection url is right\n",
      "https://www.vagas.com.br/vagas/v2195050/tecnico-de-planejamento-de-manutencao-i-temporario v2198562the connection url is right\n",
      "https://www.vagas.com.br/vagas/v2202613/tecnico-manutencao-minas-gerais v2198645the connection url is right\n",
      "https://www.vagas.com.br/vagas/v2204038/vendedor-externo v2173193the connection url is right\n",
      "https://www.vagas.com.br/vagas/v2185920/promotor-de-vendas-chapeco v2160241the connection url is right\n",
      "https://www.vagas.com.br/vagas/v2196623/auxiliar-administrativo v2193407the connection url is right\n",
      "https://www.vagas.com.br/vagas/v2195182/auxiliar-administrativo v2188617the connection url is right\n",
      "https://www.vagas.com.br/vagas/v2200507/engenheiro-de-dados-gcp v2189402the connection url is right\n",
      "https://www.vagas.com.br/vagas/v2194869/tecnico-fiscal-de-obras-62756 v2195133the connection url is right\n",
      "https://www.vagas.com.br/vagas/v2200069/analista-de-credito-jr v2200722the connection url is right\n",
      "https://www.vagas.com.br/vagas/v2203639/estagiario-a-de-engenharia-eletrica v2204497the connection url is right\n",
      "https://www.vagas.com.br/vagas/v2203155/engenheiro v2201279the connection url is right\n",
      "https://www.vagas.com.br/vagas/v2204070/supervisor-a-de-contas-tecnico-dedicado v2163042the connection url is right\n",
      "https://www.vagas.com.br/vagas/v2186331/eletricista-industrial v2191584the connection url is right\n",
      "https://www.vagas.com.br/vagas/v2193769/especialista-de-controladoria-de-projetos v2196666the connection url is right\n",
      "https://www.vagas.com.br/vagas/v2194217/coordenador-de-suporte-field-service v2198300the connection url is right\n",
      "https://www.vagas.com.br/vagas/v2201337/analista-de-pcm-63605 v2198278the connection url is right\n",
      "https://www.vagas.com.br/vagas/v2201846/analista-financeiro v2198530the connection url is right\n",
      "https://www.vagas.com.br/vagas/v2191508/analista-de-pcm-pl v2196666the connection url is right\n",
      "https://www.vagas.com.br/vagas/v2199547/lider-de-facilities v2201488the connection url is right\n",
      "https://www.vagas.com.br/vagas/v2190207/cagc-orientador-a-de-loja v2189880the connection url is right\n",
      "https://www.vagas.com.br/vagas/v2194429/orientador-a-de-loja-zona-leste-analia-franco v2202251the connection url is right\n",
      "https://www.vagas.com.br/vagas/v2196196/consultor-comercial-manhuacu-mg v2203915the connection url is right\n",
      "https://www.vagas.com.br/vagas/v2197273/tecnico-de-manutencao v2202250the connection url is right\n",
      "https://www.vagas.com.br/vagas/v2201594/orientador-a-de-loja v2202498the connection url is right\n",
      "https://www.vagas.com.br/vagas/v2202717/analista-de-desenvolvimento-sistemas-rm v2203889the connection url is right\n",
      "https://www.vagas.com.br/vagas/v2203097/analista-de-r-s-temporario v2203545the connection url is right\n",
      "https://www.vagas.com.br/vagas/v2200990/mecanico-industrial v2194002the connection url is right\n",
      "https://www.vagas.com.br/vagas/v2203138/tecnico-em-seguranca-do-trabalho v2184376the connection url is right\n",
      "https://www.vagas.com.br/vagas/v2188459/consultor-de-vendas-sorocaba-2110228 v2193215the connection url is right\n",
      "https://www.vagas.com.br/vagas/v2196596/orientador-a-de-loja v2179595the connection url is right\n",
      "https://www.vagas.com.br/vagas/v2194454/orientador-a-de-loja v2177611the connection url is right\n",
      "https://www.vagas.com.br/vagas/v2202178/orientador-a-de-loja v2173617the connection url is right\n",
      "https://www.vagas.com.br/vagas/v2204197/consultor-de-vendas v2195157the connection url is right\n",
      "https://www.vagas.com.br/vagas/v2204842/orientador-a-de-loja v2194948the connection url is right\n",
      "https://www.vagas.com.br/vagas/v2204999/orientador-a-de-loja v2192339the connection url is right\n",
      "https://www.vagas.com.br/vagas/v2194969/tecnica-de-enfermagem v2191317the connection url is right\n",
      "https://www.vagas.com.br/vagas/v2196010/expert-em-interacao-agente-atendimento-turismo v2191245the connection url is right\n",
      "https://www.vagas.com.br/vagas/v2194929/tecnico-em-seguranca-do-trabalho v2191990the connection url is right\n",
      "https://www.vagas.com.br/vagas/v2195309/tecnico-de-manutencao-eletrica v2193211the connection url is right\n",
      "https://www.vagas.com.br/vagas/v2202477/supervisor-de-vendas-jr v2198628the connection url is right\n",
      "https://www.vagas.com.br/vagas/v2182053/analista-de-monitoramento-de-mercado-pl v2198612the connection url is right\n",
      "https://www.vagas.com.br/vagas/v2158635/recepcionista-clinica-medica v2197511the connection url is right\n",
      "https://www.vagas.com.br/vagas/v2196429/analista-de-customer-service-pirassununga v2200500the connection url is right\n",
      "https://www.vagas.com.br/vagas/v2202034/tecnico-de-controle-de-qualidade-cuiaba v2201272the connection url is right\n",
      "https://www.vagas.com.br/vagas/v2204643/profissional-de-vendas-industriais-londrina-pr v2184578the connection url is right\n",
      "https://www.vagas.com.br/vagas/v2198808/gerente-de-loja-farmacia-drogaria-alfenas-mg v2178580the connection url is right\n",
      "https://www.vagas.com.br/vagas/v2194376/analista-de-comunicacao-iii v2151848the connection url is right\n",
      "https://www.vagas.com.br/vagas/v2199261/coordenador-a-de-vendas-uberlandia-mg v2165051the connection url is right\n",
      "https://www.vagas.com.br/vagas/v2199355/estagiario-a-de-controladoria v2191575the connection url is right\n",
      "https://www.vagas.com.br/vagas/v2198363/tecnico-de-manutencao-i v2197725the connection url is right\n",
      "https://www.vagas.com.br/vagas/v2195692/analista-contabil-senior v2165443the connection url is right\n",
      "https://www.vagas.com.br/vagas/v2194642/analista-orcamento-de-proposta-jr-2110813 v2198586the connection url is right\n",
      "https://www.vagas.com.br/vagas/v2187507/consultor-alteryx v2200834the connection url is right\n",
      "https://www.vagas.com.br/vagas/v2178211/tecnico-de-coleta-premium v2193979the connection url is right\n",
      "https://www.vagas.com.br/vagas/v2196518/agente-de-relacionamento-e-negocios-i v2203157the connection url is right\n",
      "https://www.vagas.com.br/vagas/v2199544/analista-de-projetos-junior v2193230the connection url is right\n",
      "https://www.vagas.com.br/vagas/v2192799/assistente-de-faturamento v2203283the connection url is right\n",
      "https://www.vagas.com.br/vagas/v2200504/assistente-administrativo-a v2202587the connection url is right\n"
     ]
    },
    {
     "name": "stdout",
     "output_type": "stream",
     "text": [
      "https://www.vagas.com.br/vagas/v2202643/auxiliar-de-faturamento-i-central-de-guias v2178839the connection url is right\n",
      "https://www.vagas.com.br/vagas/v2201268/assistente-de-almoxarifado v2192161the connection url is right\n",
      "https://www.vagas.com.br/vagas/v2196019/sp-rn-expert-em-interacao-agente-chat-e-e-mail v2201998the connection url is right\n",
      "https://www.vagas.com.br/vagas/v2199584/jovem-aprendiz-administrativo v2151316the connection url is right\n",
      "https://www.vagas.com.br/vagas/v2202572/especialista-de-trade-marketing-porto-alegre v2110804the connection url is right\n",
      "https://www.vagas.com.br/vagas/v2197054/lider-de-turno-logistico v2186696the connection url is right\n",
      "https://www.vagas.com.br/vagas/v2195821/lider-de-turno-logistico v2178796the connection url is right\n",
      "https://www.vagas.com.br/vagas/v2202145/jr-marketing-manager-e-commerce v2197529the connection url is right\n",
      "https://www.vagas.com.br/vagas/v2191244/vendedor-interno-jr v2198553the connection url is right\n",
      "https://www.vagas.com.br/vagas/v2191519/analista-de-sistemas-fabrica-de-software v2194552the connection url is right\n",
      "https://www.vagas.com.br/vagas/v2200884/analista-pleno-de-relacoes-governamentais v2195607the connection url is right\n",
      "https://www.vagas.com.br/vagas/v2204590/especialista-de-melhoria-continua v2195488the connection url is right\n",
      "https://www.vagas.com.br/vagas/v2195180/analista-contabil-sr v2191531the connection url is right\n",
      "https://www.vagas.com.br/vagas/v2166753/analista-de-desenvolvimento-de-software-back-end v2193337the connection url is right\n",
      "https://www.vagas.com.br/vagas/v2200746/consultor-de-negocios-senior-vendas-solucoes-ti v2197363the connection url is right\n",
      "https://www.vagas.com.br/vagas/v2204758/business-partner-analista-de-recursos-humanos-i v2201060the connection url is right\n",
      "https://www.vagas.com.br/vagas/v2194215/tecnico-a-de-laboratorio v2201087the connection url is right\n",
      "https://www.vagas.com.br/vagas/v2195443/analista-de-gestao-de-ativos-de-o-m-jr-pcd v2200302the connection url is right\n",
      "https://www.vagas.com.br/vagas/v2195914/auxiliar-de-gestao-de-pessoas-departamento-pessoal v2193258the connection url is right\n",
      "https://www.vagas.com.br/vagas/v2199436/auxiliar-de-apoio-para-internacao-e-bloco-cirurgico v2202731the connection url is right\n",
      "https://www.vagas.com.br/vagas/v2180927/desenvolvedor-front-end v2204225the connection url is right\n",
      "https://www.vagas.com.br/vagas/v2186853/auxiliar-de-logistica-cnh-b-carro-jaragua-do-sul-sc v2202760the connection url is right\n",
      "https://www.vagas.com.br/vagas/v2193234/auxiliar-de-logistica-cnh-a-moto-porto-alegre-rs v2204685the connection url is right\n",
      "https://www.vagas.com.br/vagas/v2194357/especialista-laboratorial-ii-toxicologia v2201051the connection url is right\n",
      "[]\n"
     ]
    }
   ],
   "source": [
    "t0_vagas()"
   ]
  },
  {
   "cell_type": "code",
   "execution_count": null,
   "metadata": {},
   "outputs": [],
   "source": [
    "(Caused by NewConnectionError('<urllib3.contrib.socks.SOCKSHTTPSConnection object at 0x000002017E5ED080>: Failed to establish a new connection: [WinError 10061] No connection could be made because the target machine actively refused it'"
   ]
  },
  {
   "cell_type": "code",
   "execution_count": null,
   "metadata": {},
   "outputs": [],
   "source": [
    "ConnectionError: SOCKSHTTPSConnectionPool(host='www.vagas.com.br', port=443): Max retries exceeded with url: /vagas/v2198375/tecnico-em-edificacoes-vaga-temporaria (Caused by NewConnectionError('<urllib3.contrib.socks.SOCKSHTTPSConnection object at 0x000002017E5ED080>: Failed to establish a new connection: [WinError 10061] No connection could be made because the target machine actively refused it'))"
   ]
  }
 ],
 "metadata": {
  "kernelspec": {
   "display_name": "Python 3",
   "language": "python",
   "name": "python3"
  },
  "language_info": {
   "codemirror_mode": {
    "name": "ipython",
    "version": 3
   },
   "file_extension": ".py",
   "mimetype": "text/x-python",
   "name": "python",
   "nbconvert_exporter": "python",
   "pygments_lexer": "ipython3",
   "version": "3.7.1"
  }
 },
 "nbformat": 4,
 "nbformat_minor": 2
}
                                                                                                                                                                                                                                                                                                                                                                                                                                                                                                                                                                                                                                                                                                                                                                                                                                                                                                                                                                                                                                                                                                                                                         