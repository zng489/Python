{
 "cells": [
  {
   "cell_type": "code",
   "execution_count": 1,
   "metadata": {},
   "outputs": [
    {
     "name": "stdout",
     "output_type": "stream",
     "text": [
      "abfss://datalake@cnibigdatadlsgen2.dfs.core.windows.net\n"
     ]
    }
   ],
   "source": [
    "class Class(object):\n",
    "  class_attributes = 'abfss://datalake@cnibigdatadlsgen2.dfs.core.windows.net'\n",
    "  \n",
    "  def __init__(self):\n",
    "    self.value__init__x = Class.class_attributes\n",
    "    \n",
    "  def __str__(self):\n",
    "    return self.value__init__x\n",
    "  \n",
    "if __name__ == '__main__':\n",
    "  print(Class())\n",
    "  x = Class"
   ]
  },
  {
   "cell_type": "code",
   "execution_count": 9,
   "metadata": {},
   "outputs": [
    {
     "name": "stdout",
     "output_type": "stream",
     "text": [
      "abfss://datalake@cnibigdatadlsgen2.dfs.core.windows.net\n"
     ]
    }
   ],
   "source": [
    "class Class(object):\n",
    "    class_attributes = 'abfss://datalake@cnibigdatadlsgen2.dfs.core.windows.net'\n",
    "  \n",
    "    def __init__(self):\n",
    "        self.value__init__x = Class.class_attributes\n",
    "    \n",
    "    def __str__(self):\n",
    "        return self.value__init__x\n",
    "  \n",
    "    def class_function(self, x):\n",
    "        self.path = x\n",
    "        print(self.class_attributes)\n",
    "        return self.path\n",
    "  \n",
    "if __name__ == '__main__':\n",
    "\n",
    "    #print(Class())\n",
    "    #abfss://datalake@cnibigdatadlsgen2.dfs.core.windows.net\n",
    "\n",
    "    t = Class()\n",
    "    t.class_function('Zhang')\n",
    "    #print(t.class_function('Zhang'))\n",
    "    #Zhang"
   ]
  },
  {
   "cell_type": "code",
   "execution_count": null,
   "metadata": {},
   "outputs": [],
   "source": []
  }
 ],
 "metadata": {
  "kernelspec": {
   "display_name": "jupyter_conda_python_3.8",
   "language": "python",
   "name": "python3"
  },
  "language_info": {
   "codemirror_mode": {
    "name": "ipython",
    "version": 3
   },
   "file_extension": ".py",
   "mimetype": "text/x-python",
   "name": "python",
   "nbconvert_exporter": "python",
   "pygments_lexer": "ipython3",
   "version": "3.8.15"
  },
  "orig_nbformat": 4
 },
 "nbformat": 4,
 "nbformat_minor": 2
}
