{
 "cells": [
  {
   "cell_type": "code",
   "execution_count": 17,
   "metadata": {},
   "outputs": [],
   "source": [
    "# BASICS FUNCTION ABOUT HOW DOES YIELD WORK IT !!!"
   ]
  },
  {
   "cell_type": "code",
   "execution_count": 1,
   "metadata": {},
   "outputs": [],
   "source": [
    "def YIELD_FUNCTION():\n",
    "    yield 1\n",
    "    yield 2"
   ]
  },
  {
   "cell_type": "code",
   "execution_count": 2,
   "metadata": {},
   "outputs": [
    {
     "name": "stdout",
     "output_type": "stream",
     "text": [
      "1\n",
      "2\n"
     ]
    }
   ],
   "source": [
    "for x in YIELD_FUNCTION():\n",
    "    print(x)"
   ]
  },
  {
   "cell_type": "code",
   "execution_count": null,
   "metadata": {},
   "outputs": [],
   "source": []
  },
  {
   "cell_type": "code",
   "execution_count": 18,
   "metadata": {},
   "outputs": [],
   "source": [
    "# WORKING WITH PRM !!!"
   ]
  },
  {
   "cell_type": "code",
   "execution_count": 2,
   "metadata": {},
   "outputs": [],
   "source": [
    "dict = {'CNO': [['CNO', 'ID_CNO', 'string'],\n",
    "  ['Código do pais', 'CD_PAIS', 'string'],\n",
    "  ['Nome do pais', 'NM_PAIS', 'string'],\n",
    "  ['Data de início', 'DT_INICIO_OBRA', 'date'],\n",
    "  ['Data de inicio da\\nresponsabilidade',\n",
    "   'DT_INICIO_RESPONSABILIDADE',\n",
    "   'date']] }"
   ]
  },
  {
   "cell_type": "code",
   "execution_count": 3,
   "metadata": {},
   "outputs": [
    {
     "data": {
      "text/plain": [
       "[['CNO', 'ID_CNO', 'string'],\n",
       " ['Código do pais', 'CD_PAIS', 'string'],\n",
       " ['Nome do pais', 'NM_PAIS', 'string'],\n",
       " ['Data de início', 'DT_INICIO_OBRA', 'date'],\n",
       " ['Data de inicio da\\nresponsabilidade', 'DT_INICIO_RESPONSABILIDADE', 'date']]"
      ]
     },
     "execution_count": 3,
     "metadata": {},
     "output_type": "execute_result"
    }
   ],
   "source": [
    "dict[\"CNO\"]"
   ]
  },
  {
   "cell_type": "code",
   "execution_count": 4,
   "metadata": {},
   "outputs": [],
   "source": [
    "def __Transform_Columns():\n",
    "    for x, z, y in dict[\"CNO\"]:\n",
    "        if x == \"N/A\":\n",
    "            yield f\"f.lit(None).cast({x}).alias({z})\"\n",
    "        else:\n",
    "            yield f\"f.lit(None).cast({x}).alias({z})\""
   ]
  },
  {
   "cell_type": "code",
   "execution_count": null,
   "metadata": {},
   "outputs": [],
   "source": [
    "df = df.select(*__Transform_Columns())"
   ]
  },
  {
   "cell_type": "code",
   "execution_count": null,
   "metadata": {},
   "outputs": [],
   "source": []
  },
  {
   "cell_type": "code",
   "execution_count": 10,
   "metadata": {},
   "outputs": [],
   "source": [
    "dict = {'CNO': [['CNO', 'ID_CNO', 'string'],\n",
    "  ['Código do pais', 'CD_PAIS', 'string'],\n",
    "  ['Nome do pais', 'NM_PAIS', 'string'],\n",
    "  ['Data de início', 'DT_INICIO_OBRA', 'date'],\n",
    "  ['Data de inicio da\\nresponsabilidade',\n",
    "   'DT_INICIO_RESPONSABILIDADE',\n",
    "   'date']] }"
   ]
  },
  {
   "cell_type": "code",
   "execution_count": 11,
   "metadata": {},
   "outputs": [
    {
     "data": {
      "text/plain": [
       "[['CNO', 'ID_CNO', 'string'],\n",
       " ['Código do pais', 'CD_PAIS', 'string'],\n",
       " ['Nome do pais', 'NM_PAIS', 'string'],\n",
       " ['Data de início', 'DT_INICIO_OBRA', 'date'],\n",
       " ['Data de inicio da\\nresponsabilidade', 'DT_INICIO_RESPONSABILIDADE', 'date']]"
      ]
     },
     "execution_count": 11,
     "metadata": {},
     "output_type": "execute_result"
    }
   ],
   "source": [
    "dict['CNO']"
   ]
  },
  {
   "cell_type": "code",
   "execution_count": 12,
   "metadata": {},
   "outputs": [
    {
     "data": {
      "text/plain": [
       "5"
      ]
     },
     "execution_count": 12,
     "metadata": {},
     "output_type": "execute_result"
    }
   ],
   "source": [
    "len(dict['CNO'])"
   ]
  },
  {
   "cell_type": "code",
   "execution_count": null,
   "metadata": {},
   "outputs": [],
   "source": []
  },
  {
   "cell_type": "code",
   "execution_count": 19,
   "metadata": {},
   "outputs": [],
   "source": [
    "# TESTING AND FIXING THE ERROR IN PRM!!!\n",
    "\n",
    "# THIS IS NOT THE RIGHT \"CODE\" !!!!"
   ]
  },
  {
   "cell_type": "code",
   "execution_count": 51,
   "metadata": {},
   "outputs": [
    {
     "name": "stdout",
     "output_type": "stream",
     "text": [
      "[['CNO', 'ID_CNO', 'string'], ['ID_CNO', 'string', 'Código do pais'], ['string', 'Código do pais', 'CD_PAIS'], ['Código do pais', 'CD_PAIS', 'string'], ['CD_PAIS', 'string', 'Nome do pais'], ['string', 'Nome do pais', 'NM_PAIS'], ['Nome do pais', 'NM_PAIS', 'string'], ['NM_PAIS', 'string', 'Data de início'], ['string', 'Data de início', 'DT_INICIO_OBRA'], ['Data de início', 'DT_INICIO_OBRA', 'date'], ['DT_INICIO_OBRA', 'date', 'Data de inicio da responsabilidade'], ['date', 'Data de inicio da responsabilidade', 'DT_INICIO_RESPONSABILIDADE'], ['Data de inicio da responsabilidade', 'DT_INICIO_RESPONSABILIDADE', 'date']]\n"
     ]
    }
   ],
   "source": [
    "dataset = []\n",
    "for x in dict['CNO']:\n",
    "    #print(x)\n",
    "    for y in x:\n",
    "        y.replace(\"\\n\", \" \")\n",
    "        #print(y)\n",
    "        dataset.append(y.replace(\"\\n\", \" \"))\n",
    "\n",
    "#dataset\n",
    "#arr = [1,2,3,4,5,6,7,8,9]\n",
    "dataset\n",
    "\n",
    "i = 0\n",
    "b = []\n",
    "while i <= len(dataset) - 3:\n",
    "    a = [dataset[i], dataset[i+1], dataset[i+2]]\n",
    "    b.append(a)\n",
    "    i += 1\n",
    "print(b)"
   ]
  },
  {
   "cell_type": "code",
   "execution_count": null,
   "metadata": {},
   "outputs": [],
   "source": []
  },
  {
   "cell_type": "code",
   "execution_count": null,
   "metadata": {},
   "outputs": [],
   "source": [
    "# Wrapping code below!! or at least trying!!!\n",
    "# WRAPPING UP THE CODE!!\n",
    "\n",
    "dict = {'CNO': [['CNO', 'ID_CNO', 'string'],\n",
    "  ['Código do pais', 'CD_PAIS', 'string'],\n",
    "  ['Nome do pais', 'NM_PAIS', 'string'],\n",
    "  ['Data de início', 'DT_INICIO_OBRA', 'date'],\n",
    "  ['Data de inicio da\\nresponsabilidade',\n",
    "   'DT_INICIO_RESPONSABILIDADE',\n",
    "   'date']] }\n",
    "   \n",
    "dict['CNO']\n",
    "\n",
    "#[y.replace(\"\\n\", \" \") for x in dict['CNO'] for y in x]\n",
    "\n",
    "result = [y.replace(\"\\n\", \" \") for x in dict['CNO'] for y in x]\n",
    "#dataset\n",
    "\n",
    "#arr = [1,2,3,4,5,6,7,8,9]\n",
    "result\n",
    "\n",
    "#lst = ['AAC', 'ACT', 'CTG', 'TGC', 'GCA', 'CAG', 'AGC', 'GCT', 'CTC', 'TCA']\n",
    "[result[i:i+3] for i in range(0, len(result), 3)]"
   ]
  },
  {
   "cell_type": "code",
   "execution_count": 20,
   "metadata": {},
   "outputs": [
    {
     "data": {
      "text/plain": [
       "'\\nresult = []\\n\\nfor tag in tags:\\n    for entry in entries:\\n        if tag in entry:\\n            result.extend(entry)\\n\\n\\n[entry            for tag in tags              for entry in entries             if tag in entry]\\n\\n\\nIn general, if-else statement comes before the first for loop, \\nand if you have just an if statement, it will come at the end. For e.g, \\nif you would like to add an empty list, if tag is not in entry, you would do it like this:\\n    \\n[entry if tag in entry else [] for tag in tags for entry in entries]\\n'"
      ]
     },
     "execution_count": 20,
     "metadata": {},
     "output_type": "execute_result"
    }
   ],
   "source": [
    "'''\n",
    "result = []\n",
    "\n",
    "for tag in tags:\n",
    "    for entry in entries:\n",
    "        if tag in entry:\n",
    "            result.extend(entry)\n",
    "\n",
    "\n",
    "[entry            for tag in tags              for entry in entries             if tag in entry]\n",
    "\n",
    "\n",
    "In general, if-else statement comes before the first for loop, \n",
    "and if you have just an if statement, it will come at the end. For e.g, \n",
    "if you would like to add an empty list, if tag is not in entry, you would do it like this:\n",
    "    \n",
    "[entry if tag in entry else [] for tag in tags for entry in entries]\n",
    "'''"
   ]
  },
  {
   "cell_type": "code",
   "execution_count": null,
   "metadata": {},
   "outputs": [],
   "source": []
  },
  {
   "cell_type": "code",
   "execution_count": null,
   "metadata": {},
   "outputs": [],
   "source": [
    "# CODE UPDGRADED!!"
   ]
  },
  {
   "cell_type": "code",
   "execution_count": 52,
   "metadata": {},
   "outputs": [
    {
     "data": {
      "text/plain": [
       "[['CNO', 'ID_CNO', 'string'],\n",
       " ['Código do pais', 'CD_PAIS', 'string'],\n",
       " ['Nome do pais', 'NM_PAIS', 'string'],\n",
       " ['Data de início', 'DT_INICIO_OBRA', 'date'],\n",
       " ['Data de inicio da responsabilidade', 'DT_INICIO_RESPONSABILIDADE', 'date']]"
      ]
     },
     "execution_count": 52,
     "metadata": {},
     "output_type": "execute_result"
    }
   ],
   "source": [
    "dataset = []\n",
    "for x in dict['CNO']:\n",
    "    #print(x)\n",
    "    for y in x:\n",
    "        y.replace(\"\\n\", \" \")\n",
    "        #print(y)\n",
    "        dataset.append(y.replace(\"\\n\", \" \"))\n",
    "\n",
    "#dataset\n",
    "#arr = [1,2,3,4,5,6,7,8,9]\n",
    "dataset\n",
    "\n",
    "#lst = ['AAC', 'ACT', 'CTG', 'TGC', 'GCA', 'CAG', 'AGC', 'GCT', 'CTC', 'TCA']\n",
    "[dataset[i:i+3] for i in range(0, len(dataset), 3)]\n",
    "\n",
    "#[['AAC', 'ACT', 'CTG'], ['TGC', 'GCA', 'CAG'], ['AGC', 'GCT', 'CTC'], ['TCA']]"
   ]
  },
  {
   "cell_type": "code",
   "execution_count": null,
   "metadata": {},
   "outputs": [],
   "source": []
  },
  {
   "cell_type": "code",
   "execution_count": 21,
   "metadata": {},
   "outputs": [],
   "source": [
    "# TESTING STUFFS"
   ]
  },
  {
   "cell_type": "code",
   "execution_count": 14,
   "metadata": {},
   "outputs": [],
   "source": [
    "a = [1, 2, 3, 4, 5, 6, 7, 8, 9]\n",
    " \n",
    "#a = list(map(lambda x: 0 if x % 2 == 1 else x, a))\n",
    "#print(a)    # prints [0, 2, 0, 4, 0, 6, 0, 8, 0]"
   ]
  },
  {
   "cell_type": "code",
   "execution_count": 15,
   "metadata": {},
   "outputs": [],
   "source": [
    "def Function(x):\n",
    "    return x*x*x"
   ]
  },
  {
   "cell_type": "code",
   "execution_count": 18,
   "metadata": {},
   "outputs": [],
   "source": [
    "g = lambda x: x*x*x"
   ]
  },
  {
   "cell_type": "code",
   "execution_count": null,
   "metadata": {},
   "outputs": [],
   "source": [
    "dataset = []\n",
    "for x in range(0,len(dict['CNO'])):\n",
    "    print(x)\n",
    "    for w in dict['CNO'][x]:\n",
    "        print(w)"
   ]
  }
 ],
 "metadata": {
  "kernelspec": {
   "display_name": "Python 3.9.12 ('jupyter_conda_python_3.9')",
   "language": "python",
   "name": "python3"
  },
  "language_info": {
   "codemirror_mode": {
    "name": "ipython",
    "version": 3
   },
   "file_extension": ".py",
   "mimetype": "text/x-python",
   "name": "python",
   "nbconvert_exporter": "python",
   "pygments_lexer": "ipython3",
   "version": "3.9.12"
  },
  "orig_nbformat": 4,
  "vscode": {
   "interpreter": {
    "hash": "cf4bffcf3759fc55deefa4405a32620c2ef8973a28d46b3ee44028ff38702ea0"
   }
  }
 },
 "nbformat": 4,
 "nbformat_minor": 2
}
